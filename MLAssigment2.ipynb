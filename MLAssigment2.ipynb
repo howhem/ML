{
 "cells": [
  {
   "cell_type": "code",
   "execution_count": 15,
   "id": "c33d26c5-2d4e-4f0a-93e9-aabef65f71e3",
   "metadata": {},
   "outputs": [
    {
     "name": "stdout",
     "output_type": "stream",
     "text": [
      "   Tid Refund Marital status  Taxable Income Cheat\n",
      "0    1    Yes         Single          125000    No\n",
      "1    2     No        Married           10000    No\n",
      "2    3     No         Single           70000    No\n",
      "3    4    Yes        Married          120000    No\n",
      "4    5     No       Divorced          950000   Yes\n",
      "5    6     No        Married           60000    No\n",
      "6    7    Yes       Divorced          220000    No\n",
      "7    8     No         Single           85000   Yes\n",
      "8    9     No        Married           75000    No\n",
      "9    0     No         Single           90000   Yes\n"
     ]
    }
   ],
   "source": [
    "import pandas as pd\n",
    "\n",
    "data = {\n",
    "    \"Tid\": [1, 2, 3, 4, 5, 6, 7, 8, 9, 0],\n",
    "    \"Refund\": ['Yes', 'No', 'No', 'Yes', 'No', 'No', 'Yes', 'No', 'No', 'No'],\n",
    "    'Marital status': ['Single', 'Married', 'Single', 'Married', 'Divorced', 'Married', 'Divorced', 'Single', 'Married', 'Single'],\n",
    "    'Taxable Income': [125000, 10000, 70000, 120000, 950000, 60000, 220000, 85000, 75000, 90000],\n",
    "    'Cheat': ['No', 'No', 'No', 'No', 'Yes', 'No', 'No', 'Yes', 'No', 'Yes']\n",
    "}\n",
    "\n",
    "df = pd.DataFrame(data)\n",
    "print(df)\n"
   ]
  },
  {
   "cell_type": "code",
   "execution_count": 17,
   "id": "4e0d46cc-4732-4577-aa5b-0385593df2b1",
   "metadata": {},
   "outputs": [
    {
     "name": "stdout",
     "output_type": "stream",
     "text": [
      "   Tid Refund Marital status  Taxable Income Cheat\n",
      "0    1    Yes         Single          125000    No\n",
      "4    5     No       Divorced          950000   Yes\n",
      "7    8     No         Single           85000   Yes\n",
      "8    9     No        Married           75000    No\n"
     ]
    }
   ],
   "source": [
    "s= df.loc[[0,4,7,8]]\n",
    "print(s)"
   ]
  },
  {
   "cell_type": "code",
   "execution_count": 19,
   "id": "1302faf4-1424-4fa9-9634-9d045b6824c3",
   "metadata": {},
   "outputs": [
    {
     "name": "stdout",
     "output_type": "stream",
     "text": [
      "   Tid Refund Marital status  Taxable Income Cheat\n",
      "3    4    Yes        Married          120000    No\n",
      "4    5     No       Divorced          950000   Yes\n",
      "5    6     No        Married           60000    No\n",
      "6    7    Yes       Divorced          220000    No\n",
      "7    8     No         Single           85000   Yes\n"
     ]
    }
   ],
   "source": [
    "r=df.iloc[3:8]\n",
    "print(r)"
   ]
  },
  {
   "cell_type": "code",
   "execution_count": 23,
   "id": "a0944ec1-6d2a-4e9f-8ea0-665e64a81ad4",
   "metadata": {},
   "outputs": [
    {
     "name": "stdout",
     "output_type": "stream",
     "text": [
      "  Marital status  Taxable Income Cheat\n",
      "4       Divorced          950000   Yes\n",
      "5        Married           60000    No\n",
      "6       Divorced          220000    No\n",
      "7         Single           85000   Yes\n",
      "8        Married           75000    No\n",
      "  Refund Marital status  Taxable Income\n",
      "0    Yes         Single          125000\n",
      "1     No        Married           10000\n",
      "2     No         Single           70000\n",
      "3    Yes        Married          120000\n",
      "4     No       Divorced          950000\n",
      "5     No        Married           60000\n",
      "6    Yes       Divorced          220000\n",
      "7     No         Single           85000\n",
      "8     No        Married           75000\n",
      "9     No         Single           90000\n"
     ]
    }
   ],
   "source": [
    "t=df.iloc[4:9,2:5]\n",
    "print(t)\n",
    "u=df.iloc[:,1:4]\n",
    "print(u)\n"
   ]
  },
  {
   "cell_type": "markdown",
   "id": "fe801e6d-d37e-4f31-9940-c371614aeebf",
   "metadata": {},
   "source": []
  },
  {
   "cell_type": "code",
   "execution_count": 30,
   "id": "a6e86960-3b87-4d06-bfe0-45c796a5e6a8",
   "metadata": {},
   "outputs": [
    {
     "name": "stdout",
     "output_type": "stream",
     "text": [
      "\n",
      "First five rows of Iris dataset:\n",
      "    sepal_length  sepal_width  petal_length  petal_width species\n",
      "0           5.1          3.5           1.4          0.2  setosa\n",
      "1           4.9          3.0           1.4          0.2  setosa\n",
      "2           4.7          3.2           1.3          0.2  setosa\n",
      "3           4.6          3.1           1.5          0.2  setosa\n",
      "4           5.0          3.6           1.4          0.2  setosa\n",
      "\n",
      "Modified Iris dataset:\n",
      "      sepal_length  sepal_width  petal_width    species\n",
      "0             5.1          3.5          0.2     setosa\n",
      "1             4.9          3.0          0.2     setosa\n",
      "2             4.7          3.2          0.2     setosa\n",
      "3             4.6          3.1          0.2     setosa\n",
      "5             5.4          3.9          0.4     setosa\n",
      "..            ...          ...          ...        ...\n",
      "145           6.7          3.0          2.3  virginica\n",
      "146           6.3          2.5          1.9  virginica\n",
      "147           6.5          3.0          2.0  virginica\n",
      "148           6.2          3.4          2.3  virginica\n",
      "149           5.9          3.0          1.8  virginica\n",
      "\n",
      "[149 rows x 4 columns]\n"
     ]
    }
   ],
   "source": [
    "import pandas as pd\n",
    "\n",
    "d = pd.read_csv('https://raw.githubusercontent.com/mwaskom/seaborn-data/master/iris.csv')\n",
    "print(\"\\nFirst five rows of Iris dataset:\\n\",d.head())\n",
    "#A5\n",
    "f = d.drop(index=4, columns=d.columns[2])\n",
    "print(\"\\nModified Iris dataset:\\n\",f)"
   ]
  },
  {
   "cell_type": "code",
   "execution_count": null,
   "id": "26694c9b-79b8-4eb6-a27d-c803ae3a0adb",
   "metadata": {},
   "outputs": [],
   "source": []
  }
 ],
 "metadata": {
  "kernelspec": {
   "display_name": "Python [conda env:base] *",
   "language": "python",
   "name": "conda-base-py"
  },
  "language_info": {
   "codemirror_mode": {
    "name": "ipython",
    "version": 3
   },
   "file_extension": ".py",
   "mimetype": "text/x-python",
   "name": "python",
   "nbconvert_exporter": "python",
   "pygments_lexer": "ipython3",
   "version": "3.12.3"
  }
 },
 "nbformat": 4,
 "nbformat_minor": 5
}
