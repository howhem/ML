{
 "cells": [
  {
   "cell_type": "code",
   "execution_count": 3,
   "id": "2d32742a-cd13-4f7e-b4a2-f7fdd7a4bc4f",
   "metadata": {},
   "outputs": [],
   "source": [
    "import numpy as np"
   ]
  },
  {
   "cell_type": "code",
   "execution_count": 7,
   "id": "66b22c75-f57b-4562-9041-63d7711ef57c",
   "metadata": {},
   "outputs": [
    {
     "name": "stdout",
     "output_type": "stream",
     "text": [
      "Reversed array: [5 4 6 3 2 1]\n"
     ]
    }
   ],
   "source": [
    "#Q1\n",
    "#(a)\n",
    "arr = np.array([1, 2, 3, 6, 4, 5])\n",
    "reversed_arr = arr[::-1]\n",
    "print(\"Reversed array:\", reversed_arr)"
   ]
  },
  {
   "cell_type": "code",
   "execution_count": 9,
   "id": "3acf834a-34aa-419c-94ee-fc9700b6d8bc",
   "metadata": {},
   "outputs": [
    {
     "name": "stdout",
     "output_type": "stream",
     "text": [
      "Flatten using flatten(): [1 2 3 2 4 5 1 2 3]\n",
      "Flatten using ravel(): [1 2 3 2 4 5 1 2 3]\n"
     ]
    }
   ],
   "source": [
    "#(b)\n",
    "array1 = np.array([[1, 2, 3], [2, 4, 5], [1, 2, 3]])\n",
    "\n",
    "# Method 1: .flatten()\n",
    "flat1 = array1.flatten()\n",
    "\n",
    "\n",
    "flat2 = array1.ravel()\n",
    "\n",
    "print(\"Flatten using flatten():\", flat1)\n",
    "print(\"Flatten using ravel():\", flat2)"
   ]
  },
  {
   "cell_type": "code",
   "execution_count": 49,
   "id": "4439cb61-1da6-48b7-8113-9058a23fff3e",
   "metadata": {},
   "outputs": [
    {
     "name": "stdout",
     "output_type": "stream",
     "text": [
      "[[ True  True]\n",
      " [ True  True]]\n"
     ]
    }
   ],
   "source": [
    "# (c) Compare arrays\n",
    "arr1 = np.array([[1, 2], [3, 4]])\n",
    "arr2 = np.array([[1, 2], [3, 4]])\n",
    "comparison = (arr1== arr2) \n",
    "print(comparison)"
   ]
  },
  {
   "cell_type": "code",
   "execution_count": 51,
   "id": "99b7ae08-3c33-4de7-96ae-d65fef66b2e7",
   "metadata": {},
   "outputs": [
    {
     "name": "stdout",
     "output_type": "stream",
     "text": [
      "Most frequent value in x: 1\n",
      "Indices: [0 5 7 8 9]\n",
      "Most frequent value in y: 1\n",
      "Indices: [0 1 2]\n"
     ]
    }
   ],
   "source": [
    "# (d) Find most frequent value and indices\n",
    "# i.\n",
    "x = np.array([1,2,3,4,5,1,2,1,1,1])\n",
    "\n",
    "values, counts = np.unique(x, return_counts=True)\n",
    "most_frequent = values[np.argmax(counts)]\n",
    "indices = np.where(x == most_frequent)[0]\n",
    "print(f\"Most frequent value in x: {most_frequent}\")\n",
    "print(f\"Indices: {indices}\")\n",
    "\n",
    "# ii.\n",
    "y = np.array([1, 1, 1, 2, 3, 4, 2, 4, 3, 3])\n",
    "values, counts = np.unique(y, return_counts=True)\n",
    "most_frequent = values[np.argmax(counts)]\n",
    "indices = np.where(y == most_frequent)[0]\n",
    "\n",
    "print(f\"Most frequent value in y: {most_frequent}\")\n",
    "print(f\"Indices: {indices}\")\n"
   ]
  },
  {
   "cell_type": "code",
   "execution_count": 53,
   "id": "cb8ce837-1f59-4d2f-b8ad-f49b002dd709",
   "metadata": {},
   "outputs": [
    {
     "name": "stdout",
     "output_type": "stream",
     "text": [
      "Sum of all elements: 45\n",
      "Row-wise sum: [[14 16 15]]\n",
      "Column-wise sum: [[20  9 16]]\n"
     ]
    }
   ],
   "source": [
    "# (e) Matrix operations\n",
    "gfg = np.matrix('[4, 1, 9; 12, 3, 1; 4, 5, 6]')\n",
    "sum_all = np.sum(gfg)\n",
    "sum_row = np.sum(gfg, axis=1)\n",
    "sum_col = np.sum(gfg, axis=0)\n",
    "print(\"Sum of all elements:\", sum_all)\n",
    "print(\"Row-wise sum:\", sum_row.flatten())\n",
    "print(\"Column-wise sum:\", sum_col) "
   ]
  },
  {
   "cell_type": "code",
   "execution_count": 61,
   "id": "20f1babc-0e1b-4da3-a98a-729adbed86f3",
   "metadata": {},
   "outputs": [
    {
     "name": "stdout",
     "output_type": "stream",
     "text": [
      "Sum of diagonal elements: 176\n",
      "Eigenvalues: [98.16835147 28.097044   49.73460452]\n",
      "Eigenvectors:\n",
      " [[ 0.4574917   0.34637121 -0.15017693]\n",
      " [ 0.28447814 -0.72784061 -0.4852124 ]\n",
      " [ 0.84248058  0.59184038  0.8614034 ]]\n",
      "Inverse:\n",
      " [[ 0.02404141 -0.00911212 -0.00444671]\n",
      " [-0.01667882  0.02966905  0.0024785 ]\n",
      " [ 0.00631287 -0.01603732  0.01217379]]\n",
      "Determinant: 137180.0000000001\n"
     ]
    }
   ],
   "source": [
    "# (f) Matrix properties\n",
    "n_array = np.array([[55, 25, 15], [30, 44, 2], [11, 45, 77]])\n",
    "diag_sum = np.trace(n_array)\n",
    "print(\"Sum of diagonal elements:\", diag_sum)\n",
    "eigenvals, eigenvecs = np.linalg.eig(n_array)\n",
    "print(\"Eigenvalues:\", eigenvals)\n",
    "print(\"Eigenvectors:\\n\", eigenvecs)\n",
    "inv_matrix = np.linalg.inv(n_array)\n",
    "print(\"Inverse:\\n\", inv_matrix)\n",
    "det = np.linalg.det(n_array)\n",
    "print(\"Determinant:\", det)\n",
    "\n"
   ]
  },
  {
   "cell_type": "code",
   "execution_count": 55,
   "id": "0671f9d0-d880-4315-8a35-0d1c721d0dfc",
   "metadata": {},
   "outputs": [
    {
     "name": "stdout",
     "output_type": "stream",
     "text": [
      "Matrix multiplication (p @ q):\n",
      " [[16 19]\n",
      " [26 31]]\n",
      "Covariance between flattened p and q:\n",
      " [[0.66666667 1.        ]\n",
      " [1.         1.66666667]]\n",
      "Matrix multiplication (p @ q):\n",
      " [[16 19  5]\n",
      " [26 31  8]\n",
      " [46 55 14]]\n",
      "Covariance between p and q (flattened):\n",
      " [[2.16666667 0.23333333]\n",
      " [0.23333333 5.36666667]]\n"
     ]
    }
   ],
   "source": [
    "# (g) Matrix multiplication and covariance\n",
    "# i.\n",
    "p = np.array([[1, 2],\n",
    "              [2, 3]])\n",
    "q = np.array([[4, 5],\n",
    "              [6, 7]])\n",
    "mult = np.dot(p, q)\n",
    "print(\"Matrix multiplication (p @ q):\\n\", mult)\n",
    "\n",
    "cov = np.cov(p, q, rowvar=False) \n",
    "pq = np.column_stack((p.flatten(), q.flatten()))\n",
    "cov_pq = np.cov(pq.T)\n",
    "print(\"Covariance between flattened p and q:\\n\", cov_pq)\n",
    "#ii\n",
    "p = np.array([[1, 2],\n",
    "              [2, 3],\n",
    "              [4, 5]])\n",
    "\n",
    "q = np.array([[4, 5, 1],\n",
    "              [6, 7, 2]])  \n",
    "\n",
    "mult = np.dot(p, q)\n",
    "print(\"Matrix multiplication (p @ q):\\n\", mult)\n",
    "\n",
    "p_flat = p.flatten()  \n",
    "q_flat = q.flatten()  \n",
    "cov = np.cov(p_flat, q_flat)\n",
    "print(\"Covariance between p and q (flattened):\\n\", cov)\n",
    "\n"
   ]
  },
  {
   "cell_type": "code",
   "execution_count": 57,
   "id": "cc5a1564-e383-411c-988d-4836a94d98c8",
   "metadata": {},
   "outputs": [
    {
     "name": "stdout",
     "output_type": "stream",
     "text": [
      "Inner product (row-wise):\n",
      " [[17 52]\n",
      " [13 62]]\n",
      "Outer product (flattened):\n",
      " (6, 6)\n",
      "Cartesian product shape: (36, 2)\n"
     ]
    }
   ],
   "source": [
    "# (h) Vector products\n",
    "x_arr = np.array([[2, 3, 4], [3, 2, 9]])\n",
    "y_arr = np.array([[1, 5, 0], [5, 10, 3]])\n",
    "inner = np.inner(x_arr, y_arr)\n",
    "outer = np.outer(x_arr, y_arr)\n",
    "cartesian = np.array(np.meshgrid(x_arr.flatten(), y_arr.flatten())).T.reshape(-1, 2)\n",
    "print(\"Inner product (row-wise):\\n\", inner)\n",
    "print(\"Outer product (flattened):\\n\", outer.shape) \n",
    "print(\"Cartesian product shape:\", cartesian.shape)\n"
   ]
  },
  {
   "cell_type": "code",
   "execution_count": 67,
   "id": "7e1209f2-a930-4bf5-ba41-4218beccbe88",
   "metadata": {},
   "outputs": [
    {
     "name": "stdout",
     "output_type": "stream",
     "text": [
      "Mean per column: [-1.5  1.5 -1.5]\n",
      "Median per column: [-1.5  1.5 -1.5]\n",
      "Std per column: [2.5 3.5 4.5]\n",
      "Mean per row: [ 0.66666667 -1.66666667]\n",
      "Median per row: [ 1. -4.]\n",
      "Std per row: [2.05480467 4.78423336]\n"
     ]
    }
   ],
   "source": [
    "# Q2: Mathematics and Statistics\n",
    "# (a)\n",
    "array = np.array([[1, -2, 3], [-4, 5, -6]])\n",
    "abs_array = np.abs(array)\n",
    "\n",
    "flat = array.flatten()\n",
    "percentiles_flat = np.percentile(flat, [25, 50, 75])\n",
    "percentiles_col = np.percentile(array, [25, 50, 75], axis=0)\n",
    "percentiles_row = np.percentile(array, [25, 50, 75], axis=1)\n",
    "\n",
    "mean_flat, median_flat, std_flat = np.mean(flat), np.median(flat), np.std(flat)\n",
    "mean_col = np.mean(array, axis=0)\n",
    "median_col = np.median(array, axis=0)\n",
    "std_col = np.std(array, axis=0)\n",
    "print(\"Mean per column:\", mean_col)\n",
    "print(\"Median per column:\", median_col)\n",
    "print(\"Std per column:\",std_col)\n",
    "mean_row = np.mean(array, axis=1)\n",
    "median_row = np.median(array, axis=1)\n",
    "std_row = np.std(array, axis=1)\n",
    "print(\"Mean per row:\", mean_row)\n",
    "print(\"Median per row:\", median_row)\n",
    "print(\"Std per row:\", std_row)\n"
   ]
  },
  {
   "cell_type": "code",
   "execution_count": 69,
   "id": "7dcfe28f-9e38-4de5-a3cb-eca2ddc68d55",
   "metadata": {},
   "outputs": [
    {
     "name": "stdout",
     "output_type": "stream",
     "text": [
      "Original: [-1.8 -1.6 -0.5  0.5  1.6  1.8  3. ]\n",
      "Floor: [-2. -2. -1.  0.  1.  1.  3.]\n",
      "Ceil: [-1. -1. -0.  1.  2.  2.  3.]\n",
      "Truncate: [-1. -1. -0.  0.  1.  1.  3.]\n",
      "Rounded: [-2. -2. -0.  0.  2.  2.  3.]\n"
     ]
    }
   ],
   "source": [
    "# (b)\n",
    "a = np.array([-1.8, -1.6, -0.5, 0.5, 1.6, 1.8, 3.0])\n",
    "floor_a = np.floor(a)\n",
    "ceil_a = np.ceil(a)\n",
    "trunc_a = np.trunc(a)\n",
    "round_a = np.round(a)\n",
    "print(\"Original:\", a)\n",
    "print(\"Floor:\", floor_a)\n",
    "print(\"Ceil:\", ceil_a)\n",
    "print(\"Truncate:\", trunc_a)\n",
    "print(\"Rounded:\", round_a)"
   ]
  },
  {
   "cell_type": "code",
   "execution_count": 73,
   "id": "16b11eee-54f3-4260-a77e-fbcca7dfb35f",
   "metadata": {},
   "outputs": [
    {
     "name": "stdout",
     "output_type": "stream",
     "text": [
      "Sorted array: [ 10  16  16  52  54  62 453]\n",
      "Indices of sorted array: [0 3 4 1 5 2 6]\n",
      "4 smallest: [16 10 16 52]\n",
      "5 largest (via argpartition): [ 16  52  54  62 453]\n"
     ]
    }
   ],
   "source": [
    "# Q3: Searching and Sorting\n",
    "# (a)\n",
    "array_a = np.array([10, 52, 62, 16, 16, 54, 453])\n",
    "# i. \n",
    "sorted_arr = np.sort(array_a)\n",
    "print(\"Sorted array:\", sorted_arr)\n",
    "# ii. \n",
    "sorted_indices = np.argsort(array_a)\n",
    "print(\"Indices of sorted array:\", sorted_indices)\n",
    "# iii. \n",
    "smallest_4 = np.partition(array_a, 4)[:4]\n",
    "print(\"4 smallest:\", smallest_4)\n",
    "# iv.\n",
    "largest_5 = np.partition(array_a, -5)[-5:]\n",
    "print(\"5 largest (via argpartition):\", np.sort(largest_5))\n"
   ]
  },
  {
   "cell_type": "code",
   "execution_count": 71,
   "id": "b63001a3-6d88-4ad7-821d-2206b27f6942",
   "metadata": {},
   "outputs": [
    {
     "name": "stdout",
     "output_type": "stream",
     "text": [
      "Integer elements: [1. 2. 3. 2.]\n",
      "Non-integer float elements: [1.2 2.2]\n"
     ]
    }
   ],
   "source": [
    "# (b)\n",
    "array_b = np.array([1.0, 1.2, 2.2, 2.0, 3.0, 2.0])\n",
    "# i.\n",
    "int_elements = array_b[array_b == array_b.astype(int)]\n",
    "print(\"Integer elements:\", int_elements)\n",
    "# ii. \n",
    "float_elements = array_b[array_b != array_b.astype(int)]\n",
    "print(\"Non-integer float elements:\", float_elements)"
   ]
  },
  {
   "cell_type": "code",
   "execution_count": null,
   "id": "c516f4c8-6227-414f-bef4-e15e6c2b5c23",
   "metadata": {},
   "outputs": [],
   "source": []
  },
  {
   "cell_type": "code",
   "execution_count": null,
   "id": "979c318e-654b-4004-96e1-93fcd869e804",
   "metadata": {},
   "outputs": [],
   "source": []
  },
  {
   "cell_type": "code",
   "execution_count": null,
   "id": "89f1e849-5864-4743-9602-a923ea47e980",
   "metadata": {},
   "outputs": [],
   "source": []
  }
 ],
 "metadata": {
  "kernelspec": {
   "display_name": "Python [conda env:base] *",
   "language": "python",
   "name": "conda-base-py"
  },
  "language_info": {
   "codemirror_mode": {
    "name": "ipython",
    "version": 3
   },
   "file_extension": ".py",
   "mimetype": "text/x-python",
   "name": "python",
   "nbconvert_exporter": "python",
   "pygments_lexer": "ipython3",
   "version": "3.12.3"
  }
 },
 "nbformat": 4,
 "nbformat_minor": 5
}
